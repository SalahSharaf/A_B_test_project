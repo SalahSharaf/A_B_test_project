{
  "nbformat": 4,
  "nbformat_minor": 0,
  "metadata": {
    "colab": {
      "name": "recommendation Engine using pyspark.ipynb",
      "provenance": [],
      "collapsed_sections": [],
      "authorship_tag": "ABX9TyP2iQJbfV7eqn+ON5Fjwdg/",
      "include_colab_link": true
    },
    "kernelspec": {
      "name": "python3",
      "display_name": "Python 3"
    },
    "language_info": {
      "name": "python"
    }
  },
  "cells": [
    {
      "cell_type": "markdown",
      "metadata": {
        "id": "view-in-github",
        "colab_type": "text"
      },
      "source": [
        "<a href=\"https://colab.research.google.com/github/SalahSharaf/A_B_test_project/blob/master/recommendation_Engine_using_pyspark.ipynb\" target=\"_parent\"><img src=\"https://colab.research.google.com/assets/colab-badge.svg\" alt=\"Open In Colab\"/></a>"
      ]
    },
    {
      "cell_type": "markdown",
      "source": [
        "# we download data and all spark stuff"
      ],
      "metadata": {
        "id": "ZaKg8KMQtXv4"
      }
    },
    {
      "cell_type": "code",
      "source": [
        "! chmod 600 /content/kaggle.json"
      ],
      "metadata": {
        "id": "UHS56nWVrvQv"
      },
      "execution_count": 35,
      "outputs": []
    },
    {
      "cell_type": "code",
      "source": [
        "! cp kaggle.json ~/.kaggle/"
      ],
      "metadata": {
        "id": "-sK5b2E-s4ba"
      },
      "execution_count": 38,
      "outputs": []
    },
    {
      "cell_type": "code",
      "source": [
        "! chmod 600 ~/.kaggle/kaggle.json"
      ],
      "metadata": {
        "id": "GHvS9j15s7hW"
      },
      "execution_count": 39,
      "outputs": []
    },
    {
      "cell_type": "code",
      "source": [
        "!kaggle datasets download -d jirakst/bookcrossing"
      ],
      "metadata": {
        "colab": {
          "base_uri": "https://localhost:8080/"
        },
        "id": "FYD-tsfusqPx",
        "outputId": "4f001ffe-826b-47b9-de47-6372f01cd9bd"
      },
      "execution_count": 40,
      "outputs": [
        {
          "output_type": "stream",
          "name": "stdout",
          "text": [
            "Downloading bookcrossing.zip to /content\n",
            " 69% 17.0M/24.6M [00:00<00:00, 52.9MB/s]\n",
            "100% 24.6M/24.6M [00:00<00:00, 62.0MB/s]\n"
          ]
        }
      ]
    },
    {
      "cell_type": "code",
      "source": [
        "!unzip /content/bookcrossing.zip -d books_data/"
      ],
      "metadata": {
        "colab": {
          "base_uri": "https://localhost:8080/"
        },
        "id": "bWNkIzIeT0vO",
        "outputId": "88029b7c-bacc-4ddb-a0e7-7e3b96ff25ee"
      },
      "execution_count": 41,
      "outputs": [
        {
          "output_type": "stream",
          "name": "stdout",
          "text": [
            "Archive:  /content/bookcrossing.zip\n",
            "replace books_data/BX-Book-Ratings.csv? [y]es, [n]o, [A]ll, [N]one, [r]ename: n\n",
            "replace books_data/BX-Books.csv? [y]es, [n]o, [A]ll, [N]one, [r]ename: n\n",
            "replace books_data/BX-Users.csv? [y]es, [n]o, [A]ll, [N]one, [r]ename: n\n"
          ]
        }
      ]
    },
    {
      "cell_type": "code",
      "source": [
        "!apt-get install openjdk-8-jdk-headless -qq > /dev/null"
      ],
      "metadata": {
        "id": "BLQNwe_0Qe66"
      },
      "execution_count": null,
      "outputs": []
    },
    {
      "cell_type": "code",
      "source": [
        "!java -version"
      ],
      "metadata": {
        "colab": {
          "base_uri": "https://localhost:8080/"
        },
        "id": "YgyzrZNu4lUr",
        "outputId": "4b119370-35c7-42c3-ac95-3899ced8be27"
      },
      "execution_count": null,
      "outputs": [
        {
          "output_type": "stream",
          "name": "stdout",
          "text": [
            "openjdk version \"11.0.13\" 2021-10-19\n",
            "OpenJDK Runtime Environment (build 11.0.13+8-Ubuntu-0ubuntu1.18.04)\n",
            "OpenJDK 64-Bit Server VM (build 11.0.13+8-Ubuntu-0ubuntu1.18.04, mixed mode, sharing)\n"
          ]
        }
      ]
    },
    {
      "cell_type": "code",
      "source": [
        "!ls /usr/lib/jvm/"
      ],
      "metadata": {
        "colab": {
          "base_uri": "https://localhost:8080/"
        },
        "id": "QQaGIBz-etfR",
        "outputId": "0ed6dddf-de1b-45fd-f009-5e64deff786b"
      },
      "execution_count": null,
      "outputs": [
        {
          "output_type": "stream",
          "name": "stdout",
          "text": [
            "default-java\t\t   java-11-openjdk-amd64     java-8-openjdk-amd64\n",
            "java-1.11.0-openjdk-amd64  java-1.8.0-openjdk-amd64\n"
          ]
        }
      ]
    },
    {
      "cell_type": "code",
      "source": [
        "!wget -q https://dlcdn.apache.org/spark/spark-3.1.2/spark-3.1.2-bin-hadoop3.2.tgz"
      ],
      "metadata": {
        "id": "R4g0NK2TQknD"
      },
      "execution_count": null,
      "outputs": []
    },
    {
      "cell_type": "code",
      "source": [
        "!tar xf spark-3.1.2-bin-hadoop3.2.tgz"
      ],
      "metadata": {
        "id": "5mqTmnqoQwP-"
      },
      "execution_count": null,
      "outputs": []
    },
    {
      "cell_type": "code",
      "source": [
        "!pip install -q findspark"
      ],
      "metadata": {
        "id": "WR6pi2cNQzCI"
      },
      "execution_count": null,
      "outputs": []
    },
    {
      "cell_type": "code",
      "source": [
        "# import os\n",
        "# os.environ[\"JAVA_HOME\"] = \"/usr/lib/jvm/java-11-openjdk-amd64\"\n",
        "# os.environ[\"SPARK_HOME\"] = \"/content/spark-3.1.2-bin-hadoop3.2/bin\""
      ],
      "metadata": {
        "id": "m5loKniQRabU"
      },
      "execution_count": 17,
      "outputs": []
    },
    {
      "cell_type": "code",
      "source": [
        "# import findspark\n",
        "# findspark.init()\n",
        "# findspark.find()"
      ],
      "metadata": {
        "colab": {
          "base_uri": "https://localhost:8080/",
          "height": 36
        },
        "id": "rmach6F_RfsF",
        "outputId": "78c85c4e-5709-4b9a-80f2-b6477f108841"
      },
      "execution_count": null,
      "outputs": [
        {
          "output_type": "execute_result",
          "data": {
            "application/vnd.google.colaboratory.intrinsic+json": {
              "type": "string"
            },
            "text/plain": [
              "'/content/spark-3.1.2-bin-hadoop3.2/python/pyspark'"
            ]
          },
          "metadata": {},
          "execution_count": 7
        }
      ]
    },
    {
      "cell_type": "markdown",
      "source": [
        "## another way to use pyspark"
      ],
      "metadata": {
        "id": "7UrIkX-Dpc2j"
      }
    },
    {
      "cell_type": "code",
      "source": [
        "!pip install pyspark"
      ],
      "metadata": {
        "colab": {
          "base_uri": "https://localhost:8080/"
        },
        "id": "o8vtOQvHFpUe",
        "outputId": "0897f8d5-3e6a-492d-cab8-130bf1b8ea37"
      },
      "execution_count": null,
      "outputs": [
        {
          "output_type": "stream",
          "name": "stdout",
          "text": [
            "Collecting pyspark\n",
            "  Downloading pyspark-3.2.1.tar.gz (281.4 MB)\n",
            "\u001b[K     |████████████████████████████████| 281.4 MB 24 kB/s \n",
            "\u001b[?25hRequirement already satisfied: py4j==0.10.9.3 in /usr/local/lib/python3.7/dist-packages (from pyspark) (0.10.9.3)\n",
            "Building wheels for collected packages: pyspark\n",
            "  Building wheel for pyspark (setup.py) ... \u001b[?25l\u001b[?25hdone\n",
            "  Created wheel for pyspark: filename=pyspark-3.2.1-py2.py3-none-any.whl size=281853642 sha256=fba41dea29cea599f920b2b1355822851c318eb44c88b2d7ca10153894b85c67\n",
            "  Stored in directory: /root/.cache/pip/wheels/9f/f5/07/7cd8017084dce4e93e84e92efd1e1d5334db05f2e83bcef74f\n",
            "Successfully built pyspark\n",
            "Installing collected packages: pyspark\n",
            "Successfully installed pyspark-3.2.1\n"
          ]
        }
      ]
    },
    {
      "cell_type": "markdown",
      "source": [
        "## first we connect to pyspark"
      ],
      "metadata": {
        "id": "po2hGh9HnmrW"
      }
    },
    {
      "cell_type": "code",
      "source": [
        "import pyspark"
      ],
      "metadata": {
        "id": "Y7h3pmPaSQ3M"
      },
      "execution_count": 2,
      "outputs": []
    },
    {
      "cell_type": "code",
      "source": [
        "conf=pyspark.conf.SparkConf().setAppName('recommender').setMaster('local')\n",
        "sc=pyspark.SparkContext(conf=conf)\n",
        "spark=pyspark.sql.SQLContext(sc)"
      ],
      "metadata": {
        "id": "0gZeu8MHTgco",
        "colab": {
          "base_uri": "https://localhost:8080/"
        },
        "outputId": "653d782b-9309-44e3-b475-f4515ea2735e"
      },
      "execution_count": 3,
      "outputs": [
        {
          "output_type": "stream",
          "name": "stderr",
          "text": [
            "/usr/local/lib/python3.7/dist-packages/pyspark/sql/context.py:79: FutureWarning: Deprecated in 3.0.0. Use SparkSession.builder.getOrCreate() instead.\n",
            "  FutureWarning\n"
          ]
        }
      ]
    },
    {
      "cell_type": "code",
      "source": [
        "sc.setCheckpointDir('my_dir')"
      ],
      "metadata": {
        "id": "2zuQWykqT9M2"
      },
      "execution_count": 4,
      "outputs": []
    },
    {
      "cell_type": "markdown",
      "source": [
        "## secondely we have to clean data"
      ],
      "metadata": {
        "id": "oqZSv1GK0aIV"
      }
    },
    {
      "cell_type": "code",
      "source": [
        "import pandas as pd\n",
        "import numpy as np\n",
        "import matplotlib.pyplot as plt\n",
        "import seaborn as sns\n",
        "from pyspark.sql.types import StructType,StructField,LongType,StringType,IntegerType\n",
        "from pyspark.sql.functions import isnan, when, count, col,isnull,monotonically_increasing_id"
      ],
      "metadata": {
        "id": "YKsByJU4mPRY"
      },
      "execution_count": 5,
      "outputs": []
    },
    {
      "cell_type": "code",
      "source": [
        "users_schema=StructType([\n",
        "    StructField('user_id',StringType(),nullable=False),\n",
        "    StructField('location',StringType(),nullable=True),\n",
        "    StructField('Age',IntegerType(),nullable=True)\n",
        "]\n",
        "    )\n",
        "users_df=spark.read.csv('/content/books_data/BX-Users.csv',sep=';',schema=users_schema)\n",
        "users_df=users_df.withColumn('user_index',monotonically_increasing_id().cast('integer')).persist()\n",
        "new_users_df=users_df.dropna(subset='user_id')\n",
        "new_users_df.filter(isnull(col('user_id'))).count()\n",
        "new_users_df.printSchema()\n"
      ],
      "metadata": {
        "colab": {
          "base_uri": "https://localhost:8080/"
        },
        "id": "8f7JBSkL0cvm",
        "outputId": "79389ac1-8c2b-4013-c1ca-c854614a1194"
      },
      "execution_count": 6,
      "outputs": [
        {
          "output_type": "stream",
          "name": "stdout",
          "text": [
            "root\n",
            " |-- user_id: string (nullable = true)\n",
            " |-- location: string (nullable = true)\n",
            " |-- Age: integer (nullable = true)\n",
            " |-- user_index: integer (nullable = false)\n",
            "\n"
          ]
        }
      ]
    },
    {
      "cell_type": "code",
      "source": [
        "books_df=spark.read.csv('/content/books_data/BX-Books.csv',sep=';',header=True)\\\n",
        ".select(col('ISBN').cast('long')\n",
        "        ,col('Book-Title').cast('string').alias('book_title')\n",
        "        ,col('Book-Author').cast('string').alias('book_author')\n",
        "        ,col('Publisher').cast('string').alias('publisher'))\n",
        "\n",
        "books_df.filter(isnull(col('ISBN'))).count()\n",
        "new_books_df=books_df.dropna(subset=['ISBN'])\n",
        "new_books_df=new_books_df.withColumn('book_index',monotonically_increasing_id().cast('integer')).persist()\n",
        "new_books_df.printSchema()"
      ],
      "metadata": {
        "id": "8wmynl-G0flq",
        "colab": {
          "base_uri": "https://localhost:8080/"
        },
        "outputId": "7c0a87d9-c97d-469c-e23a-7ae4a0614760"
      },
      "execution_count": 7,
      "outputs": [
        {
          "output_type": "stream",
          "name": "stdout",
          "text": [
            "root\n",
            " |-- ISBN: long (nullable = true)\n",
            " |-- book_title: string (nullable = true)\n",
            " |-- book_author: string (nullable = true)\n",
            " |-- publisher: string (nullable = true)\n",
            " |-- book_index: integer (nullable = false)\n",
            "\n"
          ]
        }
      ]
    },
    {
      "cell_type": "code",
      "source": [
        "ratings_schema=StructType([\n",
        "    StructField('user_id', StringType(),nullable=False),\n",
        "    StructField('ISBN', StringType(),nullable=False),\n",
        "    StructField('book_rating', IntegerType(),nullable=(False))\n",
        "    ])\n",
        "ratings_df=spark.read.csv('/content/books_data/BX-Book-Ratings.csv',sep=';',schema=ratings_schema)\n",
        "ratings_df.filter(isnull(col('ISBN'))).count()\n",
        "new_ratings_df=ratings_df.dropna()"
      ],
      "metadata": {
        "id": "WkHGmotn0uOD"
      },
      "execution_count": 8,
      "outputs": []
    },
    {
      "cell_type": "code",
      "source": [
        "full_df=new_ratings_df.join(new_books_df,'ISBN','inner').join(new_users_df,'user_id','inner')"
      ],
      "metadata": {
        "id": "CrfW-S0SF397"
      },
      "execution_count": 9,
      "outputs": []
    },
    {
      "cell_type": "code",
      "source": [
        "print(full_df.count())\n",
        "new_full_df=full_df.dropna()\n",
        "new_full_df.count()\n"
      ],
      "metadata": {
        "colab": {
          "base_uri": "https://localhost:8080/"
        },
        "id": "4OoQX3JJGqrB",
        "outputId": "7655fc08-9ae0-47dc-9a1f-cb045e002cec"
      },
      "execution_count": 10,
      "outputs": [
        {
          "output_type": "stream",
          "name": "stdout",
          "text": [
            "946306\n"
          ]
        },
        {
          "output_type": "execute_result",
          "data": {
            "text/plain": [
              "691437"
            ]
          },
          "metadata": {},
          "execution_count": 10
        }
      ]
    },
    {
      "cell_type": "code",
      "source": [
        "new_full_df.printSchema()"
      ],
      "metadata": {
        "colab": {
          "base_uri": "https://localhost:8080/"
        },
        "id": "Tn9krFOHII1w",
        "outputId": "9f369268-6ede-420e-f143-d7decc223c5f"
      },
      "execution_count": 11,
      "outputs": [
        {
          "output_type": "stream",
          "name": "stdout",
          "text": [
            "root\n",
            " |-- user_id: string (nullable = true)\n",
            " |-- ISBN: string (nullable = true)\n",
            " |-- book_rating: integer (nullable = true)\n",
            " |-- book_title: string (nullable = true)\n",
            " |-- book_author: string (nullable = true)\n",
            " |-- publisher: string (nullable = true)\n",
            " |-- book_index: integer (nullable = false)\n",
            " |-- location: string (nullable = true)\n",
            " |-- Age: integer (nullable = true)\n",
            " |-- user_index: integer (nullable = false)\n",
            "\n"
          ]
        }
      ]
    },
    {
      "cell_type": "markdown",
      "source": [
        "##  here we will use our model"
      ],
      "metadata": {
        "id": "ikqfbjW50EYe"
      }
    },
    {
      "cell_type": "code",
      "source": [
        "from pyspark.ml.recommendation import ALS\n",
        "from pyspark.ml.evaluation import RegressionEvaluator\n",
        "from pyspark.ml.tuning import ParamGridBuilder,CrossValidator"
      ],
      "metadata": {
        "id": "dXgpUtC00Ink"
      },
      "execution_count": 12,
      "outputs": []
    },
    {
      "cell_type": "code",
      "source": [
        "als=ALS(userCol=\"user_index\", itemCol=\"book_index\", ratingCol=\"book_rating\",\n",
        "         nonnegative=True,\n",
        "         coldStartStrategy=\"drop\",\n",
        "         implicitPrefs=False,\n",
        "        rank=50,\n",
        "        maxIter=20,\n",
        "        regParam=0.01)\n",
        "        \n",
        "# param_grid = ParamGridBuilder()\\\n",
        "# .addGrid(als.rank, [25,50,60])\\\n",
        "# .addGrid(als.maxIter, [20,40])\\\n",
        "# .addGrid(als.regParam, [0.1,1, 1.5])\\\n",
        "# .build()\n",
        "\n",
        "evaluator = RegressionEvaluator(metricName=\"rmse\", labelCol=\"book_rating\",predictionCol=\"prediction\")\n",
        "\n",
        "# cv = CrossValidator(estimator = als,\n",
        "#                     estimatorParamMaps = param_grid,\n",
        "#                     evaluator = evaluator,\n",
        "#                     numFolds = 5)\n"
      ],
      "metadata": {
        "id": "q2H8Q74G05KQ"
      },
      "execution_count": 19,
      "outputs": []
    },
    {
      "cell_type": "code",
      "source": [
        "new_ratings_df_sample=new_full_df.select('book_rating','book_index','user_index').sample(0.1,seed=42)"
      ],
      "metadata": {
        "id": "NQUfTmzn1JIt"
      },
      "execution_count": 14,
      "outputs": []
    },
    {
      "cell_type": "code",
      "source": [
        "training_df,testing_df=new_ratings_df_sample.randomSplit([0.8,0.2],seed=42)\n",
        "training_df.show(5)\n",
        "training_df.cache()\n",
        "training_df = training_df.checkpoint(eager=True)"
      ],
      "metadata": {
        "id": "5KiCUIa31SG_",
        "colab": {
          "base_uri": "https://localhost:8080/"
        },
        "outputId": "adae5618-848a-44e0-9982-ad49cd876997"
      },
      "execution_count": 15,
      "outputs": [
        {
          "output_type": "stream",
          "name": "stdout",
          "text": [
            "+-----------+----------+----------+\n",
            "|book_rating|book_index|user_index|\n",
            "+-----------+----------+----------+\n",
            "|          0|         5|    200674|\n",
            "|          0|        16|     20435|\n",
            "|          0|        16|     76942|\n",
            "|          0|        16|    102967|\n",
            "|          0|        16|    114544|\n",
            "+-----------+----------+----------+\n",
            "only showing top 5 rows\n",
            "\n"
          ]
        }
      ]
    },
    {
      "cell_type": "code",
      "source": [
        "models=als.fit(training_df)"
      ],
      "metadata": {
        "id": "P0hjKhI61lX1"
      },
      "execution_count": 16,
      "outputs": []
    },
    {
      "cell_type": "code",
      "source": [
        "prediction=models.transform(testing_df)\n",
        "prediction.show()"
      ],
      "metadata": {
        "colab": {
          "base_uri": "https://localhost:8080/"
        },
        "id": "97HCTQVtmhNi",
        "outputId": "3eae59a6-023a-4414-ca4a-e60f2f0842d8"
      },
      "execution_count": 22,
      "outputs": [
        {
          "output_type": "stream",
          "name": "stdout",
          "text": [
            "+-----------+----------+----------+-----------+\n",
            "|book_rating|book_index|user_index| prediction|\n",
            "+-----------+----------+----------+-----------+\n",
            "|          0|        16|     23768|0.020858666|\n",
            "|          0|        16|    198412|        0.0|\n",
            "|          0|        16|    269566|   0.855924|\n",
            "|          0|        24|      4285|0.041541554|\n",
            "|          0|        24|     27650|        0.0|\n",
            "|          0|        24|     33943| 0.38161463|\n",
            "|          0|        24|     56856| 0.02384191|\n",
            "|          0|        24|     63714| 0.16817255|\n",
            "|          0|        24|     68256| 0.09720203|\n",
            "|          0|        24|     76942|  0.1683183|\n",
            "|          0|        24|     88729|        0.0|\n",
            "|          0|        24|     99347|        0.0|\n",
            "|          0|        24|    195374|  0.4825582|\n",
            "|          0|        24|    196493|  0.7891096|\n",
            "|          0|        24|    197505|        0.0|\n",
            "|          0|        24|    232945|  0.1918664|\n",
            "|          0|        25|    273086|        0.0|\n",
            "|          0|        26|     76942| 0.41565514|\n",
            "|          0|        26|    135458|  0.2423312|\n",
            "|          0|        26|    183883|        0.0|\n",
            "+-----------+----------+----------+-----------+\n",
            "only showing top 20 rows\n",
            "\n"
          ]
        }
      ]
    },
    {
      "cell_type": "code",
      "source": [
        "evaluator.evaluate(prediction)"
      ],
      "metadata": {
        "id": "shyCKK6nBXkK",
        "colab": {
          "base_uri": "https://localhost:8080/"
        },
        "outputId": "3d907fec-9f59-4949-d6e0-a11b10f2d494"
      },
      "execution_count": 21,
      "outputs": [
        {
          "output_type": "execute_result",
          "data": {
            "text/plain": [
              "3.9361736740928426"
            ]
          },
          "metadata": {},
          "execution_count": 21
        }
      ]
    },
    {
      "cell_type": "code",
      "source": [
        "models.recommendForAllUsers(1).show()"
      ],
      "metadata": {
        "colab": {
          "base_uri": "https://localhost:8080/"
        },
        "id": "IlRMUDsAmTHH",
        "outputId": "0d0c41e6-5a2f-4002-d970-92a2bd743261"
      },
      "execution_count": 28,
      "outputs": [
        {
          "output_type": "stream",
          "name": "stderr",
          "text": [
            "/usr/local/lib/python3.7/dist-packages/pyspark/sql/context.py:127: FutureWarning: Deprecated in 3.0.0. Use SparkSession.builder.getOrCreate() instead.\n",
            "  FutureWarning\n"
          ]
        },
        {
          "output_type": "stream",
          "name": "stdout",
          "text": [
            "+----------+--------------------+\n",
            "|user_index|     recommendations|\n",
            "+----------+--------------------+\n",
            "|        10|         [{40, 0.0}]|\n",
            "|        75|         [{40, 0.0}]|\n",
            "|        99|[{107260, 10.6820...|\n",
            "|       114|[{232138, 14.24163}]|\n",
            "|       193|         [{40, 0.0}]|\n",
            "|       199|         [{40, 0.0}]|\n",
            "|       215|[{200037, 7.822133}]|\n",
            "|       254| [{14288, 8.674279}]|\n",
            "|       289| [{69633, 9.149336}]|\n",
            "|       361| [{90161, 5.624949}]|\n",
            "|       388| [{57546, 9.171476}]|\n",
            "|       392|         [{40, 0.0}]|\n",
            "|       408|         [{40, 0.0}]|\n",
            "|       424|         [{40, 0.0}]|\n",
            "|       486|  [{18694, 8.62049}]|\n",
            "|       503|[{90516, 10.161483}]|\n",
            "|       505|    [{232921, 9.04}]|\n",
            "|       538|[{104415, 9.223965}]|\n",
            "|       569|         [{40, 0.0}]|\n",
            "|       625|[{34224, 10.112593}]|\n",
            "+----------+--------------------+\n",
            "only showing top 20 rows\n",
            "\n"
          ]
        }
      ]
    }
  ]
}